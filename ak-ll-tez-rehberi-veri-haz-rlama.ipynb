{
 "cells": [
  {
   "cell_type": "markdown",
   "id": "3c5baac9",
   "metadata": {
    "papermill": {
     "duration": 0.003289,
     "end_time": "2025-10-18T17:20:50.384979",
     "exception": false,
     "start_time": "2025-10-18T17:20:50.381690",
     "status": "completed"
    },
    "tags": []
   },
   "source": [
    "# Akıllı Tez Rehberi – Veri Hazırlama (PDF → Parça Metin)\n",
    "\n",
    "Bu not defteri, lisans tezimizi (PDF dosyası: `yapayzekadilmodelleri.pdf`) bir RAG (Retrieval-Augmented Generation) tabanlı sohbet asistanında kullanılmaya uygun hale getirir.\n",
    "\n",
    "Bu kodda sırayla şunları yapacağız:\n",
    "\n",
    "1) PDF dosyasını not defterine yüklediğimizi doğrulayacağız.\n",
    "   \n",
    "2) PDF’ten sayfa sayfa metin çıkaracağız.\n",
    " \n",
    "3) Metni sadeleştireceğiz (gereksiz boşlukları/karakterleri temizleyeceğiz).\n",
    "   \n",
    "4) Uzun metni “küçük parçalara” (chunk) böleceğiz.\n",
    " \n",
    "5) Her parçaya faydalı “etiketler (metadata)” ekleyeceğiz (ör. sayfa numarası, kaynak adı).\n",
    " \n",
    "6)  Sonuçları iki dosya biçiminde kaydedeceğiz: JSONL (RAG ingest için çok pratik) ve Parquet (tablo gibi hızlı).\n",
    "\n",
    "Neden böyle?\n",
    "- RAG sistemi, uzun metni küçük parçalara ayırdığımızda çok daha iyi arama yapar.\n",
    "- Soru geldiğinde “en ilgili parçalar” bulunur ve yanıt bunlara dayanır.\n",
    "- Metadata, cevabın “hangi sayfadan geldiğini” göstermemize imkân verir.\n",
    "\n",
    "Önemli:\n",
    "- Bu defter sadece “veri hazırlama” içindir.\n",
    "- Web arayüzü ve RAG akışı `project.py` içinde (Hugging Face Spaces üzerinde) çalışacaktır."
   ]
  },
  {
   "cell_type": "code",
   "execution_count": 1,
   "id": "af72e1b7",
   "metadata": {
    "execution": {
     "iopub.execute_input": "2025-10-18T17:20:50.391693Z",
     "iopub.status.busy": "2025-10-18T17:20:50.390967Z",
     "iopub.status.idle": "2025-10-18T17:20:54.687249Z",
     "shell.execute_reply": "2025-10-18T17:20:54.686256Z"
    },
    "papermill": {
     "duration": 4.301027,
     "end_time": "2025-10-18T17:20:54.688620",
     "exception": false,
     "start_time": "2025-10-18T17:20:50.387593",
     "status": "completed"
    },
    "tags": []
   },
   "outputs": [
    {
     "name": "stdout",
     "output_type": "stream",
     "text": [
      "✅ Ortam hazır: Uyarılar kısıldı, pypdf & pandas kuruldu.\n"
     ]
    }
   ],
   "source": [
    "# Amaç:\n",
    "# 1) \"Temiz çıktı\": Kullanıcıyı boğacak uyarıları ve logları kısmak.\n",
    "# 2) Gerekli paketleri (pypdf, pandas) sessizce kurmak.\n",
    "#\n",
    "# Neden önemli?\n",
    "# - Notebook çıktıları zamanla çok kalabalıklaşabilir. Odak kaybını önlemek için\n",
    "#   yalnızca anlamlı, kısa onay mesajları basacağız.\n",
    "# - pypdf: PDF içinden metin çekmek için gereklidir.\n",
    "# - pandas: parçaları tabloya dökmek ve dosyaya kaydetmek için kullanacağız.\n",
    "\n",
    "import warnings, logging\n",
    "warnings.filterwarnings(\"ignore\")                  # Örn. Future/Deprecation uyarılarını gösterme\n",
    "logging.getLogger().setLevel(logging.ERROR)        # Genel log seviyesini ERROR'a indir\n",
    "\n",
    "!pip -q install pypdf pandas\n",
    "\n",
    "print(\"✅ Ortam hazır: Uyarılar kısıldı, pypdf & pandas kuruldu.\")"
   ]
  },
  {
   "cell_type": "markdown",
   "id": "672c92ee",
   "metadata": {
    "papermill": {
     "duration": 0.002439,
     "end_time": "2025-10-18T17:20:54.693944",
     "exception": false,
     "start_time": "2025-10-18T17:20:54.691505",
     "status": "completed"
    },
    "tags": []
   },
   "source": [
    "## 1) PDF dosyasını bulma (otomatik yol tespiti) ve doğrulama\n",
    "\n",
    "Kaggle’da dosyalar iki tip konumda bulunabilir:\n",
    "- Çalışma alanı yüklemeleri: `/kaggle/working/…` (Files → Upload)\n",
    "- Dataset ekleri: `/kaggle/input/<dataset-adı>/…` (Notebook → Add data)\n",
    "\n",
    "Neden otomatik arama?\n",
    "- Kullanıcı bazen “Upload” ile, bazen “Add data” ile ekler. Tek bir sabit yol hata üretir.\n",
    "- Kod, `yapayzekadilmodelleri.pdf` adını tüm olası konumlarda arayıp ilk bulduğu geçerli yolu `PDF_PATH` olarak ayarlar.\n",
    "- Bulunamazsa, kullanıcıyı doğru adımlara yönlendiren net bir hata mesajı verir."
   ]
  },
  {
   "cell_type": "code",
   "execution_count": 2,
   "id": "59447b4c",
   "metadata": {
    "execution": {
     "iopub.execute_input": "2025-10-18T17:20:54.700262Z",
     "iopub.status.busy": "2025-10-18T17:20:54.699619Z",
     "iopub.status.idle": "2025-10-18T17:20:54.714718Z",
     "shell.execute_reply": "2025-10-18T17:20:54.714084Z"
    },
    "papermill": {
     "duration": 0.019445,
     "end_time": "2025-10-18T17:20:54.715834",
     "exception": false,
     "start_time": "2025-10-18T17:20:54.696389",
     "status": "completed"
    },
    "tags": []
   },
   "outputs": [
    {
     "name": "stdout",
     "output_type": "stream",
     "text": [
      "✅ PDF bulundu: /kaggle/input/yapayzekadilmodelleri/yapayzekadilmodelleri.pdf\n"
     ]
    }
   ],
   "source": [
    "# Bu hücre, 'yapayzekadilmodelleri.pdf' dosyasını otomatik olarak bulur.\n",
    "# Adımlar:\n",
    "# 1) En olası konumlar listelenir (çalışma dizini, /kaggle/working, /kaggle/input).\n",
    "# 2) /kaggle/input altında bağlanan tüm dataset klasörleri de taranır.\n",
    "# 3) İlk bulunan geçerli yol seçilir. Bulunamazsa, recursive arama yapılır.\n",
    "# 4) Son olarak assert ile kesin doğrulama yapılır; bulunamadıysa yönlendirici hata verilir.\n",
    "\n",
    "import os, glob\n",
    "\n",
    "PDF_NAME = \"yapayzekadilmodelleri.pdf\"  # TEZ PDF dosya adınız (uzantı dahil, harf uyumuna dikkat)\n",
    "\n",
    "# 1) En olası sabit konum adayları\n",
    "candidates = [\n",
    "    f\"./{PDF_NAME}\",                    # Mevcut çalışma dizini\n",
    "    f\"/kaggle/working/{PDF_NAME}\",     # Files → Upload sonrası tipik konum\n",
    "    f\"/kaggle/input/{PDF_NAME}\",       # Nadir: input kökünde olabilir\n",
    "]\n",
    "\n",
    "# 2) /kaggle/input altındaki dataset klasörlerini dolaş ve olası yolu ekle\n",
    "for d in glob.glob(\"/kaggle/input/*\"):\n",
    "    candidates.append(os.path.join(d, PDF_NAME))\n",
    "\n",
    "# 3) İlk var olan yolu seç\n",
    "PDF_PATH = next((p for p in candidates if os.path.exists(p)), None)\n",
    "\n",
    "# 4) Hâlâ bulunamadıysa, tüm input altında derin arama yap\n",
    "if PDF_PATH is None:\n",
    "    matches = glob.glob(f\"/kaggle/input/**/{PDF_NAME}\", recursive=True)\n",
    "    PDF_PATH = matches[0] if matches else None\n",
    "\n",
    "# 5) Son doğrulama ve yönlendirme\n",
    "assert PDF_PATH and os.path.exists(PDF_PATH), (\n",
    "    \"PDF bulunamadı. Notebook'a 'Add data' ile ilgili dataset'i ekleyin veya Files→Upload ile PDF'yi yükleyin. \"\n",
    "    \"Dosya adı tam olarak 'yapayzekadilmodelleri.pdf' olmalı.\"\n",
    ")\n",
    "\n",
    "print(f\"✅ PDF bulundu: {PDF_PATH}\")"
   ]
  },
  {
   "cell_type": "markdown",
   "id": "5742ee32",
   "metadata": {
    "papermill": {
     "duration": 0.002509,
     "end_time": "2025-10-18T17:20:54.720880",
     "exception": false,
     "start_time": "2025-10-18T17:20:54.718371",
     "status": "completed"
    },
    "tags": []
   },
   "source": [
    "## 2) Metni biçimsel olarak temizleme (neden?)\n",
    "\n",
    "PDF’ten çekilen ham metinde:\n",
    "- Bozuk/gizli karakterler (ör. `\\x00`)\n",
    "- Birden fazla boşluk veya tab\n",
    "- Birbiri ardına aşırı sayıda satır sonu olabilir.\n",
    "\n",
    "Bunlar “anlamı” değiştirmeden temizlenir:\n",
    "- Bozuk karakterler boşluğa çevrilir.\n",
    "- Çoklu boşluk/tab tek boşluğa indirilir.\n",
    "- 3+ satır sonu 2 satıra düşürülür.\n",
    "\n",
    "Amaç:\n",
    "- Okunabilirlik ve arama isabetini artırmak (parçalama adımı daha tutarlı çalışır)."
   ]
  },
  {
   "cell_type": "code",
   "execution_count": 3,
   "id": "03ade33b",
   "metadata": {
    "execution": {
     "iopub.execute_input": "2025-10-18T17:20:54.726915Z",
     "iopub.status.busy": "2025-10-18T17:20:54.726510Z",
     "iopub.status.idle": "2025-10-18T17:20:54.731198Z",
     "shell.execute_reply": "2025-10-18T17:20:54.730449Z"
    },
    "papermill": {
     "duration": 0.00889,
     "end_time": "2025-10-18T17:20:54.732327",
     "exception": false,
     "start_time": "2025-10-18T17:20:54.723437",
     "status": "completed"
    },
    "tags": []
   },
   "outputs": [
    {
     "name": "stdout",
     "output_type": "stream",
     "text": [
      "✅ Temizleme fonksiyonu hazır.\n"
     ]
    }
   ],
   "source": [
    "# Bu fonksiyon ham metni biçimsel olarak sadeleştirir; semantik içerik korunur.\n",
    "# Neden bu kadar basit? Aşırı agresif temizlik (ör. stopword silme) içerik kaybına yol açabilir;\n",
    "# burada yalnızca \"biçimsel\" normalizasyon hedeflenir.\n",
    "\n",
    "import re\n",
    "\n",
    "def clean_text(text: str) -> str:\n",
    "    # 1) Bozuk null karakterlerini boşlukla değiştir (çoğu zaman render hatasıdır)\n",
    "    text = text.replace(\"\\x00\", \" \")\n",
    "    # 2) Birden fazla boşluk veya tab'ı tek boşluğa indir\n",
    "    text = re.sub(r\"[ \\t]+\", \" \", text)\n",
    "    # 3) 3 veya daha fazla ardışık satır sonunu 2 satıra düşür (okunabilirlik için)\n",
    "    text = re.sub(r\"\\n{3,}\", \"\\n\\n\", text)\n",
    "    # 4) Baştaki/sondaki fazlalıkları temizle\n",
    "    return text.strip()\n",
    "\n",
    "print(\"✅ Temizleme fonksiyonu hazır.\")"
   ]
  },
  {
   "cell_type": "markdown",
   "id": "daeac08d",
   "metadata": {
    "papermill": {
     "duration": 0.002207,
     "end_time": "2025-10-18T17:20:54.736973",
     "exception": false,
     "start_time": "2025-10-18T17:20:54.734766",
     "status": "completed"
    },
    "tags": []
   },
   "source": [
    "## 3) PDF’ten sayfa sayfa metin çıkarma\n",
    "\n",
    "Adımlar:\n",
    "1) PDF baytları belleğe alınır (dosyayı her seferinde diskten okumamak için).\n",
    "2) `pypdf.PdfReader` ile her sayfanın metni `extract_text()` ile alınır.\n",
    "3) Metin `clean_text()` ile biçimsel olarak sadeleştirilir.\n",
    "4) Her sayfanın sonucu `pages_text` listesine eklenir (liste elemanı = sayfa metni).\n",
    "\n",
    "Not:\n",
    "- Bazı sayfalar tarama (görsel) olabilir; metin boş dönebilir. MVP için yeterli; gerekirse OCR eklenebilir."
   ]
  },
  {
   "cell_type": "code",
   "execution_count": 4,
   "id": "c02616bb",
   "metadata": {
    "execution": {
     "iopub.execute_input": "2025-10-18T17:20:54.742608Z",
     "iopub.status.busy": "2025-10-18T17:20:54.742434Z",
     "iopub.status.idle": "2025-10-18T17:20:59.617672Z",
     "shell.execute_reply": "2025-10-18T17:20:59.616995Z"
    },
    "papermill": {
     "duration": 4.879437,
     "end_time": "2025-10-18T17:20:59.618873",
     "exception": false,
     "start_time": "2025-10-18T17:20:54.739436",
     "status": "completed"
    },
    "tags": []
   },
   "outputs": [
    {
     "name": "stdout",
     "output_type": "stream",
     "text": [
      "✅ Metin çıkarıldı: sayfa=126, toplam_karakter=279,069\n"
     ]
    }
   ],
   "source": [
    "# PDF'i bellekten okuyup tüm sayfalardan metni çıkarır ve temizler.\n",
    "# Neden bellekten? I/O (girdi/çıktı) sayısını azaltmak, performansı artırmak.\n",
    "\n",
    "import io\n",
    "from typing import List\n",
    "from pypdf import PdfReader\n",
    "\n",
    "# 1) PDF'i bayt olarak belleğe al\n",
    "with open(PDF_PATH, \"rb\") as f:\n",
    "    pdf_bytes = f.read()\n",
    "\n",
    "# 2) Baytları PdfReader'a ver\n",
    "reader = PdfReader(io.BytesIO(pdf_bytes))\n",
    "\n",
    "# 3) Toplam sayfa sayısını al\n",
    "num_pages = len(reader.pages)\n",
    "\n",
    "# 4) Her sayfanın metnini al, temizle ve listeye ekle\n",
    "pages_text: List[str] = []\n",
    "for i in range(num_pages):\n",
    "    try:\n",
    "        raw = reader.pages[i].extract_text() or \"\"   # Metin yoksa boş string\n",
    "    except Exception:\n",
    "        raw = \"\"                                     # Okunamayan sayfa varsa boş kabul\n",
    "    pages_text.append(clean_text(raw))               # Biçimsel temizlikten geçir\n",
    "\n",
    "# 5) Kısa özet metrik (temiz çıktı)\n",
    "total_chars = sum(len(t) for t in pages_text)\n",
    "print(f\"✅ Metin çıkarıldı: sayfa={num_pages}, toplam_karakter={total_chars:,}\")"
   ]
  },
  {
   "cell_type": "markdown",
   "id": "84168fe6",
   "metadata": {
    "papermill": {
     "duration": 0.002508,
     "end_time": "2025-10-18T17:20:59.624414",
     "exception": false,
     "start_time": "2025-10-18T17:20:59.621906",
     "status": "completed"
    },
    "tags": []
   },
   "source": [
    "# 4) Metni parçalara ayırma (chunking)\n",
    "\n",
    "# Neden?\n",
    "\n",
    " -RAG, uzun metni küçük parçalara ayrılmış halde çok daha isabetli tarar.\n",
    " \n",
    "# Nasıl?\n",
    "\n",
    "-Yaklaşık 1500 kelimelik parçalar üretilir (ARTIRILDI: 512'den 1500'e).\n",
    "\n",
    "-Parçalar arası 250 kelimelik \"örtüşme (overlap)\" bırakılır (ARTIRILDI: 80'den 250'e):\n",
    "\n",
    "-Paragraph birden fazla parçaya bölünse bile bağlam korunur.\n",
    "\n",
    "# Neden bu değerler?\n",
    "\n",
    "- CHUNK_SIZE=512 çok küçüktü → aynı sayfadaki bilgiler parçalanıyordu\n",
    "\n",
    "- CHUNK_SIZE=1500 → daha geniş bağlam, aynı chunk'ta ilgili bilgiler\n",
    "\n",
    "- CHUNK_OVERLAP=250 → daha fazla örtüşme = daha yumuşak geçişler, bağlam kaybı yok"
   ]
  },
  {
   "cell_type": "code",
   "execution_count": 5,
   "id": "413c6ee6",
   "metadata": {
    "execution": {
     "iopub.execute_input": "2025-10-18T17:20:59.630479Z",
     "iopub.status.busy": "2025-10-18T17:20:59.630177Z",
     "iopub.status.idle": "2025-10-18T17:20:59.642324Z",
     "shell.execute_reply": "2025-10-18T17:20:59.641497Z"
    },
    "papermill": {
     "duration": 0.016731,
     "end_time": "2025-10-18T17:20:59.643536",
     "exception": false,
     "start_time": "2025-10-18T17:20:59.626805",
     "status": "completed"
    },
    "tags": []
   },
   "outputs": [
    {
     "name": "stdout",
     "output_type": "stream",
     "text": [
      "✅ Parçalama tamam: toplam_parça=126\n",
      "   Chunk boyutu: 1500 kelime\n",
      "   Örtüşme: 250 kelime\n"
     ]
    }
   ],
   "source": [
    "\n",
    "\n",
    "from typing import Dict\n",
    "\n",
    "CHUNK_SIZE = 1500      # DÜZELTME: 512'den 1500'e arttırıldı (daha büyük bağlam)\n",
    "CHUNK_OVERLAP = 250    # DÜZELTME: 80'den 250'e arttırıldı (daha fazla örtüşme)\n",
    "\n",
    "records: List[Dict] = []                 # Nihai kayıtlar (content + meta) burada toplanacak\n",
    "title = \"Yapay Zekâ Dil Modelleri – Lisans Tezi\"\n",
    "source = os.path.basename(PDF_PATH)      # Örn. 'yapayzekadilmodelleri.pdf'\n",
    "\n",
    "for page_idx, text in enumerate(pages_text, start=1):\n",
    "    words = text.split()                 # Sayfadaki metni kelimelere böl (basit ve hızlı)\n",
    "    if not words:                        # Sayfa tamamen boşsa (görsel vs.), atla\n",
    "        continue\n",
    "    start = 0                            # Kaygan pencere (sliding window) başlangıcı\n",
    "    while start < len(words):\n",
    "        end = start + CHUNK_SIZE         # Pencere bitişi (1500 kelime sonrası)\n",
    "        chunk_words = words[start:end]\n",
    "        chunk_text = \" \".join(chunk_words).strip()\n",
    "        if chunk_text:\n",
    "            # Parça + minimal metadata: başlık, kaynak dosya, sayfa aralığı\n",
    "            records.append({\n",
    "                \"content\": chunk_text,\n",
    "                \"title\": title,\n",
    "                \"source\": source,\n",
    "                \"page_start\": page_idx,  # Basit yaklaşım: parça tek sayfadan\n",
    "                \"page_end\": page_idx\n",
    "            })\n",
    "        # Örtüşme: bir sonraki parçaya geçerken 250 kelime geri sar\n",
    "        next_start = end - CHUNK_OVERLAP\n",
    "        start = next_start if next_start > 0 else end\n",
    "\n",
    "print(f\"✅ Parçalama tamam: toplam_parça={len(records)}\")\n",
    "print(f\"   Chunk boyutu: {CHUNK_SIZE} kelime\")\n",
    "print(f\"   Örtüşme: {CHUNK_OVERLAP} kelime\")"
   ]
  },
  {
   "cell_type": "markdown",
   "id": "27732824",
   "metadata": {
    "papermill": {
     "duration": 0.002431,
     "end_time": "2025-10-18T17:20:59.648677",
     "exception": false,
     "start_time": "2025-10-18T17:20:59.646246",
     "status": "completed"
    },
    "tags": []
   },
   "source": [
    "## 5) Önizleme – Parçalar (önerilen) ve Ham Sayfalar (opsiyonel)\n",
    "\n",
    "Amaç:\n",
    "- Parça (chunk) önizlemesi ile RAG’in kullanacağı veriyi hızlıca gözden geçirmek.\n",
    "- Gerekirse ham sayfa metni önizlemesi ile metin çıkarma kalitesini kontrol etmek.\n",
    "\n",
    "Neden iki tür önizleme?\n",
    "- Parça önizleme: RAG doğrudan bu parçalarla çalışır; içerik kesiti ve metadata (başlık, kaynak, sayfa) bir arada görülür. Varsayılan ve önerilen yöntemdir.\n",
    "- Ham sayfa önizleme: Metin çıkarma aşamasında boş/gürültülü sayfaları tespit etmek, OCR ihtiyacını görmek için yararlıdır. Gerektiğinde açılır.\n",
    "\n",
    "Kullanım:\n",
    "- `PREVIEW_N`: Kaç parça gösterileceğini belirler (ör. 10, 13, 20).\n",
    "- `PREVIEW_CHARS`: Her parça içeriğinin kaç karakterde kesileceğini belirler (örn. 200–300). Çıktıyı kalabalıklaştırmamak için kısaltılır.\n",
    "- `PAGE_PREVIEW`: `True` yapıldığında ham sayfa önizlemesi de çalışır.\n",
    "- `PAGE_PREVIEW_N`: Kaç sayfa gösterileceğini belirler (örn. 3, 10, 20).\n",
    "- `PAGE_PREVIEW_CHARS`: Her sayfa metninin kaç karakterde kesileceğini belirler (örn. 800).\n",
    "\n",
    "Beklenen çıktı:\n",
    "- Parça önizlemesi: Küçük bir tablo; `content_preview` sütununda metnin kesiti ve `title/source/page_start/page_end` metadata’sı.\n",
    "- Ham sayfa önizlemesi (opsiyonel): Konsola “— Sayfa i —” başlıkları ile kısa metin kesitleri.\n",
    "\n",
    "Not:\n",
    "- Parça önizleme RAG kalitesi için ana referanstır. Ham sayfa önizleme yalnızca teşhis amaçlıdır.\n",
    "- Eğer “Önizleme yok” uyarısı görürseniz, ilgili önceki adımı (parçalama veya metin çıkarma) çalıştırın."
   ]
  },
  {
   "cell_type": "code",
   "execution_count": 6,
   "id": "f08e80b9",
   "metadata": {
    "execution": {
     "iopub.execute_input": "2025-10-18T17:20:59.654584Z",
     "iopub.status.busy": "2025-10-18T17:20:59.654392Z",
     "iopub.status.idle": "2025-10-18T17:21:01.140267Z",
     "shell.execute_reply": "2025-10-18T17:21:01.138840Z"
    },
    "papermill": {
     "duration": 1.491125,
     "end_time": "2025-10-18T17:21:01.142381",
     "exception": false,
     "start_time": "2025-10-18T17:20:59.651256",
     "status": "completed"
    },
    "tags": []
   },
   "outputs": [
    {
     "data": {
      "text/html": [
       "<div>\n",
       "<style scoped>\n",
       "    .dataframe tbody tr th:only-of-type {\n",
       "        vertical-align: middle;\n",
       "    }\n",
       "\n",
       "    .dataframe tbody tr th {\n",
       "        vertical-align: top;\n",
       "    }\n",
       "\n",
       "    .dataframe thead th {\n",
       "        text-align: right;\n",
       "    }\n",
       "</style>\n",
       "<table border=\"1\" class=\"dataframe\">\n",
       "  <thead>\n",
       "    <tr style=\"text-align: right;\">\n",
       "      <th></th>\n",
       "      <th>content_preview</th>\n",
       "      <th>title</th>\n",
       "      <th>source</th>\n",
       "      <th>page_start</th>\n",
       "      <th>page_end</th>\n",
       "    </tr>\n",
       "  </thead>\n",
       "  <tbody>\n",
       "    <tr>\n",
       "      <th>0</th>\n",
       "      <td>T.C. EGE ÜNİVERSİTESİ Fen Fakültesi Matematik ...</td>\n",
       "      <td>Yapay Zekâ Dil Modelleri – Lisans Tezi</td>\n",
       "      <td>yapayzekadilmodelleri.pdf</td>\n",
       "      <td>1</td>\n",
       "      <td>1</td>\n",
       "    </tr>\n",
       "    <tr>\n",
       "      <th>1</th>\n",
       "      <td>T.C. EGE ÜNİVERSİTESİ Fen Fakültesi YAPAY ZEKÂ...</td>\n",
       "      <td>Yapay Zekâ Dil Modelleri – Lisans Tezi</td>\n",
       "      <td>yapayzekadilmodelleri.pdf</td>\n",
       "      <td>2</td>\n",
       "      <td>2</td>\n",
       "    </tr>\n",
       "    <tr>\n",
       "      <th>2</th>\n",
       "      <td>iii ÖZET YAPAY ZEKÂ DİL MODELLERİ ÇORUM, Yağmu...</td>\n",
       "      <td>Yapay Zekâ Dil Modelleri – Lisans Tezi</td>\n",
       "      <td>yapayzekadilmodelleri.pdf</td>\n",
       "      <td>3</td>\n",
       "      <td>3</td>\n",
       "    </tr>\n",
       "    <tr>\n",
       "      <th>3</th>\n",
       "      <td>iv ABSTRACT ARTIFICIAL INTELLIGENCE LANGUAGE M...</td>\n",
       "      <td>Yapay Zekâ Dil Modelleri – Lisans Tezi</td>\n",
       "      <td>yapayzekadilmodelleri.pdf</td>\n",
       "      <td>4</td>\n",
       "      <td>4</td>\n",
       "    </tr>\n",
       "    <tr>\n",
       "      <th>4</th>\n",
       "      <td>v İÇİNDEKİLER Sayfa İÇ KAPAK ....................</td>\n",
       "      <td>Yapay Zekâ Dil Modelleri – Lisans Tezi</td>\n",
       "      <td>yapayzekadilmodelleri.pdf</td>\n",
       "      <td>5</td>\n",
       "      <td>5</td>\n",
       "    </tr>\n",
       "    <tr>\n",
       "      <th>5</th>\n",
       "      <td>vi 3.2.1 Yapay Sinir Ağları ( Artificial Neura...</td>\n",
       "      <td>Yapay Zekâ Dil Modelleri – Lisans Tezi</td>\n",
       "      <td>yapayzekadilmodelleri.pdf</td>\n",
       "      <td>6</td>\n",
       "      <td>6</td>\n",
       "    </tr>\n",
       "    <tr>\n",
       "      <th>6</th>\n",
       "      <td>vii 6.1.1 Çok Modlu Büyük Dil Modelleri (Multi...</td>\n",
       "      <td>Yapay Zekâ Dil Modelleri – Lisans Tezi</td>\n",
       "      <td>yapayzekadilmodelleri.pdf</td>\n",
       "      <td>7</td>\n",
       "      <td>7</td>\n",
       "    </tr>\n",
       "    <tr>\n",
       "      <th>7</th>\n",
       "      <td>viii ŞEKİLLER DİZİNİ Şekil Sayfa Şekil 2.1 Tur...</td>\n",
       "      <td>Yapay Zekâ Dil Modelleri – Lisans Tezi</td>\n",
       "      <td>yapayzekadilmodelleri.pdf</td>\n",
       "      <td>8</td>\n",
       "      <td>8</td>\n",
       "    </tr>\n",
       "    <tr>\n",
       "      <th>8</th>\n",
       "      <td>ix ŞEKİLLER DİZİNİ (devam) Şekil Sayfa Şekil 5...</td>\n",
       "      <td>Yapay Zekâ Dil Modelleri – Lisans Tezi</td>\n",
       "      <td>yapayzekadilmodelleri.pdf</td>\n",
       "      <td>9</td>\n",
       "      <td>9</td>\n",
       "    </tr>\n",
       "    <tr>\n",
       "      <th>9</th>\n",
       "      <td>x TABLOLAR DİZİNİ Tablo Sayfa Tablo 4.1 Dil mo...</td>\n",
       "      <td>Yapay Zekâ Dil Modelleri – Lisans Tezi</td>\n",
       "      <td>yapayzekadilmodelleri.pdf</td>\n",
       "      <td>10</td>\n",
       "      <td>10</td>\n",
       "    </tr>\n",
       "    <tr>\n",
       "      <th>10</th>\n",
       "      <td>xi SİMGELER VE KISALTMALAR DİZİNİ Kısaltmalar ...</td>\n",
       "      <td>Yapay Zekâ Dil Modelleri – Lisans Tezi</td>\n",
       "      <td>yapayzekadilmodelleri.pdf</td>\n",
       "      <td>11</td>\n",
       "      <td>11</td>\n",
       "    </tr>\n",
       "    <tr>\n",
       "      <th>11</th>\n",
       "      <td>xii SİMGELER VE KISALTMALAR DİZİNİ (devam) RLH...</td>\n",
       "      <td>Yapay Zekâ Dil Modelleri – Lisans Tezi</td>\n",
       "      <td>yapayzekadilmodelleri.pdf</td>\n",
       "      <td>12</td>\n",
       "      <td>12</td>\n",
       "    </tr>\n",
       "    <tr>\n",
       "      <th>12</th>\n",
       "      <td>1 1.GİRİŞ Yapay Zekâ Teknolojisi çağımızın en ...</td>\n",
       "      <td>Yapay Zekâ Dil Modelleri – Lisans Tezi</td>\n",
       "      <td>yapayzekadilmodelleri.pdf</td>\n",
       "      <td>13</td>\n",
       "      <td>13</td>\n",
       "    </tr>\n",
       "  </tbody>\n",
       "</table>\n",
       "</div>"
      ],
      "text/plain": [
       "                                      content_preview  \\\n",
       "0   T.C. EGE ÜNİVERSİTESİ Fen Fakültesi Matematik ...   \n",
       "1   T.C. EGE ÜNİVERSİTESİ Fen Fakültesi YAPAY ZEKÂ...   \n",
       "2   iii ÖZET YAPAY ZEKÂ DİL MODELLERİ ÇORUM, Yağmu...   \n",
       "3   iv ABSTRACT ARTIFICIAL INTELLIGENCE LANGUAGE M...   \n",
       "4   v İÇİNDEKİLER Sayfa İÇ KAPAK ....................   \n",
       "5   vi 3.2.1 Yapay Sinir Ağları ( Artificial Neura...   \n",
       "6   vii 6.1.1 Çok Modlu Büyük Dil Modelleri (Multi...   \n",
       "7   viii ŞEKİLLER DİZİNİ Şekil Sayfa Şekil 2.1 Tur...   \n",
       "8   ix ŞEKİLLER DİZİNİ (devam) Şekil Sayfa Şekil 5...   \n",
       "9   x TABLOLAR DİZİNİ Tablo Sayfa Tablo 4.1 Dil mo...   \n",
       "10  xi SİMGELER VE KISALTMALAR DİZİNİ Kısaltmalar ...   \n",
       "11  xii SİMGELER VE KISALTMALAR DİZİNİ (devam) RLH...   \n",
       "12  1 1.GİRİŞ Yapay Zekâ Teknolojisi çağımızın en ...   \n",
       "\n",
       "                                     title                     source  \\\n",
       "0   Yapay Zekâ Dil Modelleri – Lisans Tezi  yapayzekadilmodelleri.pdf   \n",
       "1   Yapay Zekâ Dil Modelleri – Lisans Tezi  yapayzekadilmodelleri.pdf   \n",
       "2   Yapay Zekâ Dil Modelleri – Lisans Tezi  yapayzekadilmodelleri.pdf   \n",
       "3   Yapay Zekâ Dil Modelleri – Lisans Tezi  yapayzekadilmodelleri.pdf   \n",
       "4   Yapay Zekâ Dil Modelleri – Lisans Tezi  yapayzekadilmodelleri.pdf   \n",
       "5   Yapay Zekâ Dil Modelleri – Lisans Tezi  yapayzekadilmodelleri.pdf   \n",
       "6   Yapay Zekâ Dil Modelleri – Lisans Tezi  yapayzekadilmodelleri.pdf   \n",
       "7   Yapay Zekâ Dil Modelleri – Lisans Tezi  yapayzekadilmodelleri.pdf   \n",
       "8   Yapay Zekâ Dil Modelleri – Lisans Tezi  yapayzekadilmodelleri.pdf   \n",
       "9   Yapay Zekâ Dil Modelleri – Lisans Tezi  yapayzekadilmodelleri.pdf   \n",
       "10  Yapay Zekâ Dil Modelleri – Lisans Tezi  yapayzekadilmodelleri.pdf   \n",
       "11  Yapay Zekâ Dil Modelleri – Lisans Tezi  yapayzekadilmodelleri.pdf   \n",
       "12  Yapay Zekâ Dil Modelleri – Lisans Tezi  yapayzekadilmodelleri.pdf   \n",
       "\n",
       "    page_start  page_end  \n",
       "0            1         1  \n",
       "1            2         2  \n",
       "2            3         3  \n",
       "3            4         4  \n",
       "4            5         5  \n",
       "5            6         6  \n",
       "6            7         7  \n",
       "7            8         8  \n",
       "8            9         9  \n",
       "9           10        10  \n",
       "10          11        11  \n",
       "11          12        12  \n",
       "12          13        13  "
      ]
     },
     "metadata": {},
     "output_type": "display_data"
    },
    {
     "name": "stdout",
     "output_type": "stream",
     "text": [
      "--- Sayfa 1 ---\n",
      "T.C. \n",
      "EGE ÜNİVERSİTESİ \n",
      "Fen Fakültesi \n",
      "Matematik Anabilim Dalı Adı \n",
      " \n",
      "İzmir \n",
      "2025 \n",
      " \n",
      "Yağmur ÇORUM \n",
      " \n",
      "YAPAY ZEKÂ DİL MODELLERİ \n",
      "Lisans Tezi\n",
      "\n",
      "--- Sayfa 2 ---\n",
      "T.C. \n",
      "EGE ÜNİVERSİTESİ \n",
      "Fen Fakültesi \n",
      " \n",
      " \n",
      "YAPAY ZEKÂ DİL MODELLERİ \n",
      " \n",
      " \n",
      "Yağmur ÇORUM \n",
      "Danışman: Prof. Dr. Burak ORDİN \n",
      " \n",
      " \n",
      "İzmir \n",
      "2025 \n",
      "Matematik Anabilim Dalı Adı\n",
      "\n",
      "--- Sayfa 3 ---\n",
      "iii \n",
      " \n",
      " \n",
      " \n",
      "ÖZET \n",
      "YAPAY ZEKÂ DİL MODELLERİ \n",
      "ÇORUM, Yağmur \n",
      "Lisans Tezi, Matematik Anabilim Dalı \n",
      " \n",
      "Tez Danışmanı: Prof. Dr. Burak ORDİN \n",
      " \n",
      "Temmuz 2025, 114 sayfa \n",
      "Bu tezde, yapay zekâ ve doğal dil işleme alanındaki güncel gelişmeler ve dil \n",
      "modelleme yöntemleri kapsamlı bir şekilde incelenmektedir. Literatür taraması yöntemi \n",
      "kullanılarak, yapay zekânın tanımı, tarihçesi ve doğal dil işlemenin evrimi sistemli bir \n",
      "şekilde ele alınmıştır. Makine öğrenimi ve derin öğrenmenin temel prensipleri, denetimli, \n",
      "denetimsiz ve takviyeli öğrenme yaklaşımları açıklanmıştır. Dil modellerinin başarısında \n",
      "önemli rol oynayan yapay sinir ağları ve derin öğrenme mimarileri de incelenmiştir. \n",
      "Dil modellerinin kullanım alanları detaylandırılmış; Transformer mimarisinin \n",
      "önceki mimarilerin sınırlamalarını nası...\n",
      "\n"
     ]
    }
   ],
   "source": [
    "# ——— ÖNİZLEME AYARLARI ———\n",
    "PREVIEW_N = 13          # Kaç kayıt gösterilecek? (örn. 10, 13, 20)\n",
    "PREVIEW_CHARS = 220     # İçerik kaç karakterde kesilsin? (örn. 200–300)\n",
    "\n",
    "# ——— CHUNK ÖNİZLEME (ÖNERİLEN) ———\n",
    "# RAG bu parçalarla çalıştığı için kaliteyi burada kontrol etmek en mantıklısıdır.\n",
    "import pandas as pd\n",
    "\n",
    "if 'records' in globals() and isinstance(records, list) and len(records) > 0:\n",
    "    preview = pd.DataFrame(records[:PREVIEW_N]).copy()\n",
    "    # İçeriği keserek göster (çıktıyı temiz ve okunur tutmak için)\n",
    "    preview[\"content_preview\"] = preview[\"content\"].str.slice(0, PREVIEW_CHARS) + \"...\"\n",
    "    display(preview[[\"content_preview\", \"title\", \"source\", \"page_start\", \"page_end\"]])\n",
    "else:\n",
    "    print(\"Önizleme yok: 'records' boş ya da tanımsız. Parçalama adımını çalıştırdığınızdan emin olun.\")\n",
    "\n",
    "# ——— (OPSİYONEL) HAM SAYFA ÖNİZLEME ———\n",
    "# Metin çıkarma/boş sayfa/OCR ihtiyacını teşhis etmek için gerektiğinde açın.\n",
    "PAGE_PREVIEW = True    # True yapınca ham sayfa önizlemesini de görürsün\n",
    "PAGE_PREVIEW_N = 3    # Kaç sayfa gösterilecek? (örn. 10 veya 20)\n",
    "PAGE_PREVIEW_CHARS = 800\n",
    "\n",
    "if PAGE_PREVIEW:\n",
    "    if 'pages_text' in globals() and isinstance(pages_text, list) and len(pages_text) > 0:\n",
    "        for i, t in enumerate(pages_text[:PAGE_PREVIEW_N], start=1):\n",
    "            print(f\"--- Sayfa {i} ---\")\n",
    "            print((t[:PAGE_PREVIEW_CHARS] + \"...\") if len(t) > PAGE_PREVIEW_CHARS else t)\n",
    "            print()\n",
    "    else:\n",
    "        print(\"Ham sayfa önizleme için 'pages_text' bulunamadı. Metin çıkarma adımını çalıştırın.\")"
   ]
  },
  {
   "cell_type": "markdown",
   "id": "f6cb6810",
   "metadata": {
    "papermill": {
     "duration": 0.004473,
     "end_time": "2025-10-18T17:21:01.151506",
     "exception": false,
     "start_time": "2025-10-18T17:21:01.147033",
     "status": "completed"
    },
    "tags": []
   },
   "source": [
    "## 6) Çıktıları kaydetme (JSONL ve Parquet)\n",
    "\n",
    "Bu adımda, hazırladığımız metin parçalarını iki farklı dosya biçiminde kaydediyoruz. Sonraki “ingest” (sisteme alma) aşamasında bu dosyalar kullanılacak.\n",
    "\n",
    "Neden iki biçim?\n",
    "\n",
    "- JSONL (JSON Lines)\n",
    "  - Yapısı: Her satır bir kayıt içerir → { \"content\": \"...\", \"meta\": { ... } }\n",
    "  - Ne zaman kullanılır? RAG’e veri “aktarırken” satır satır okumak çok pratiktir.\n",
    "  - Avantaj: Büyük dosyalarda akış halinde işlemek kolaydır; çoğu ingest aracı JSONL’yi sever.\n",
    "\n",
    "- Parquet\n",
    "  - Yapısı: Tablo (sütunlu) format → hızlı okunur, kolay filtrelenir.\n",
    "  - Ne zaman kullanılır? Elle kalite kontrol, basit analiz ve hızlı inceleme için idealdir.\n",
    "  - Avantaj: Aynı veriyi genelde daha küçük boyutta saklar; performanslıdır.\n",
    "\n",
    "Kısaca:\n",
    "- JSONL: RAG’e veri aktar (ingest) ederken tercih edilen format.\n",
    "- Parquet: İnsan gözüyle kontrol/analiz yaparken rahat format.\n",
    "\n",
    "Bu dosyalar, web uygulamasında (`project.py`) indeksleme ve arama için kaynak olarak kullanılacaktır."
   ]
  },
  {
   "cell_type": "code",
   "execution_count": 7,
   "id": "22254285",
   "metadata": {
    "execution": {
     "iopub.execute_input": "2025-10-18T17:21:01.158570Z",
     "iopub.status.busy": "2025-10-18T17:21:01.157934Z",
     "iopub.status.idle": "2025-10-18T17:21:01.243735Z",
     "shell.execute_reply": "2025-10-18T17:21:01.242807Z"
    },
    "papermill": {
     "duration": 0.09053,
     "end_time": "2025-10-18T17:21:01.245003",
     "exception": false,
     "start_time": "2025-10-18T17:21:01.154473",
     "status": "completed"
    },
    "tags": []
   },
   "outputs": [
    {
     "name": "stdout",
     "output_type": "stream",
     "text": [
      "✅ Kaydedildi: processed_docs.jsonl, processed_docs.parquet\n"
     ]
    }
   ],
   "source": [
    "# Çıktı dosyalarını üretir:\n",
    "# - processed_docs.jsonl: satır başına 'content' + 'meta' JSON objesi\n",
    "# - processed_docs.parquet: tablo formatında tüm parçalar\n",
    "# Not: JSONL, satır satır okunabildiği için akış tabanlı işlemlerde çok pratiktir.\n",
    "\n",
    "import json\n",
    "\n",
    "jsonl_path = \"processed_docs.jsonl\"\n",
    "parquet_path = \"processed_docs.parquet\"\n",
    "\n",
    "# 1) JSONL yazımı: her satırda 'content' ve 'meta' alanları olan bir JSON objesi bulunur\n",
    "with open(jsonl_path, \"w\", encoding=\"utf-8\") as f:\n",
    "    for r in records:\n",
    "        row = {\n",
    "            \"content\": r[\"content\"],\n",
    "            \"meta\": {\n",
    "                \"title\": r[\"title\"],\n",
    "                \"source\": r[\"source\"],\n",
    "                \"page_start\": r[\"page_start\"],\n",
    "                \"page_end\": r[\"page_end\"]\n",
    "            }\n",
    "        }\n",
    "        f.write(json.dumps(row, ensure_ascii=False) + \"\\n\")\n",
    "\n",
    "# 2) Parquet yazımı: tüm kayıtları tek seferde tabloya döker\n",
    "pd.DataFrame(records).to_parquet(parquet_path, index=False)\n",
    "\n",
    "print(f\"✅ Kaydedildi: {jsonl_path}, {parquet_path}\")"
   ]
  }
 ],
 "metadata": {
  "kaggle": {
   "accelerator": "nvidiaTeslaT4",
   "dataSources": [
    {
     "datasetId": 8501724,
     "sourceId": 13397238,
     "sourceType": "datasetVersion"
    }
   ],
   "dockerImageVersionId": 31154,
   "isGpuEnabled": true,
   "isInternetEnabled": true,
   "language": "python",
   "sourceType": "notebook"
  },
  "kernelspec": {
   "display_name": "Python 3",
   "language": "python",
   "name": "python3"
  },
  "language_info": {
   "codemirror_mode": {
    "name": "ipython",
    "version": 3
   },
   "file_extension": ".py",
   "mimetype": "text/x-python",
   "name": "python",
   "nbconvert_exporter": "python",
   "pygments_lexer": "ipython3",
   "version": "3.11.13"
  },
  "papermill": {
   "default_parameters": {},
   "duration": 14.934014,
   "end_time": "2025-10-18T17:21:01.564688",
   "environment_variables": {},
   "exception": null,
   "input_path": "__notebook__.ipynb",
   "output_path": "__notebook__.ipynb",
   "parameters": {},
   "start_time": "2025-10-18T17:20:46.630674",
   "version": "2.6.0"
  }
 },
 "nbformat": 4,
 "nbformat_minor": 5
}
